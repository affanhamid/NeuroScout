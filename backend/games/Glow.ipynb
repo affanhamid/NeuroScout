{
 "cells": [
  {
   "cell_type": "markdown",
   "metadata": {},
   "source": [
    "This python notebook is to analyse the Glow game data. This analysis will be used to develop a scoring mechanism for the game. "
   ]
  },
  {
   "cell_type": "code",
   "execution_count": 17,
   "metadata": {},
   "outputs": [],
   "source": [
    "import pandas as pd\n",
    "import numpy as np\n",
    "import matplotlib.pyplot as plt\n",
    "import seaborn as sns\n",
    "from scipy.stats import ttest_ind"
   ]
  },
  {
   "cell_type": "code",
   "execution_count": 18,
   "metadata": {},
   "outputs": [],
   "source": [
    "test_data = {\n",
    "    \"scores\": [2, 3, 0, 2, 2, 2, 1, 2],\n",
    "    \"reactionTimes\": [\n",
    "        {\"clickTimes\": [1008, 381, 551, 266]},\n",
    "        {\"clickTimes\": [1007, 999, 499, 245]},\n",
    "        {\"clickTimes\": [897, 787, 300, 456]},\n",
    "        {\"clickTimes\": [978, 654, 321, 111]},\n",
    "        {\"clickTimes\": [700, 800, 600, 200]},\n",
    "        {\"clickTimes\": [1500, 500, 700, 100]},\n",
    "        {\"clickTimes\": [1400, 1300, 800, 900]},\n",
    "        {\"clickTimes\": [1234, 5678, 4321, 8765]},\n",
    "    ],\n",
    "    \"reactionTimesGlow\": [\n",
    "        [1348, 1961],\n",
    "        [1546, 1460],\n",
    "        [1423, 887, 1186],\n",
    "        [1423, 111],\n",
    "        [700],\n",
    "        [3702],\n",
    "        [1500, 1200, 1300, 1400],\n",
    "        [900],\n",
    "    ],\n",
    "}\n",
    "\n"
   ]
  },
  {
   "cell_type": "markdown",
   "metadata": {},
   "source": [
    "Assuming max number of balls is 4, lets first get this all into a df"
   ]
  },
  {
   "cell_type": "code",
   "execution_count": 19,
   "metadata": {},
   "outputs": [],
   "source": [
    "def process_reaction_times(data):\n",
    "    processed_data = {\n",
    "        \"scores\": data[\"scores\"],\n",
    "        \"reactionTimes\": [rt[\"clickTimes\"] for rt in data[\"reactionTimes\"]],\n",
    "        \"reactionTimesGlow\": [\n",
    "            glow + [pd.NA] * (4 - len(glow)) if len(glow) < 4 else glow[:4]\n",
    "            for glow in data[\"reactionTimesGlow\"]\n",
    "        ],\n",
    "    }\n",
    "    df = pd.DataFrame(processed_data)\n",
    "\n",
    "    # Flatten reactionTimes and reactionTimesGlow into separate columns\n",
    "    reaction_df = pd.DataFrame(df[\"reactionTimes\"].to_list(), columns=[\n",
    "        f\"reactionTime_{i+1}\" for i in range(4)\n",
    "    ])\n",
    "    glow_df = pd.DataFrame(df[\"reactionTimesGlow\"].to_list(), columns=[\n",
    "        f\"reactionTimesGlow_{i+1}\" for i in range(4)\n",
    "    ])\n",
    "    return pd.concat([df.drop(columns=[\"reactionTimes\", \"reactionTimesGlow\"]), reaction_df, glow_df], axis=1)\n",
    "\n",
    "game_data = process_reaction_times(test_data)\n"
   ]
  },
  {
   "cell_type": "code",
   "execution_count": 20,
   "metadata": {},
   "outputs": [
    {
     "data": {
      "text/html": [
       "<div>\n",
       "<style scoped>\n",
       "    .dataframe tbody tr th:only-of-type {\n",
       "        vertical-align: middle;\n",
       "    }\n",
       "\n",
       "    .dataframe tbody tr th {\n",
       "        vertical-align: top;\n",
       "    }\n",
       "\n",
       "    .dataframe thead th {\n",
       "        text-align: right;\n",
       "    }\n",
       "</style>\n",
       "<table border=\"1\" class=\"dataframe\">\n",
       "  <thead>\n",
       "    <tr style=\"text-align: right;\">\n",
       "      <th></th>\n",
       "      <th>scores</th>\n",
       "      <th>reactionTime_1</th>\n",
       "      <th>reactionTime_2</th>\n",
       "      <th>reactionTime_3</th>\n",
       "      <th>reactionTime_4</th>\n",
       "      <th>reactionTimesGlow_1</th>\n",
       "      <th>reactionTimesGlow_2</th>\n",
       "      <th>reactionTimesGlow_3</th>\n",
       "      <th>reactionTimesGlow_4</th>\n",
       "    </tr>\n",
       "  </thead>\n",
       "  <tbody>\n",
       "    <tr>\n",
       "      <th>0</th>\n",
       "      <td>2</td>\n",
       "      <td>1008</td>\n",
       "      <td>381</td>\n",
       "      <td>551</td>\n",
       "      <td>266</td>\n",
       "      <td>1348</td>\n",
       "      <td>1961</td>\n",
       "      <td>&lt;NA&gt;</td>\n",
       "      <td>&lt;NA&gt;</td>\n",
       "    </tr>\n",
       "    <tr>\n",
       "      <th>1</th>\n",
       "      <td>3</td>\n",
       "      <td>1007</td>\n",
       "      <td>999</td>\n",
       "      <td>499</td>\n",
       "      <td>245</td>\n",
       "      <td>1546</td>\n",
       "      <td>1460</td>\n",
       "      <td>&lt;NA&gt;</td>\n",
       "      <td>&lt;NA&gt;</td>\n",
       "    </tr>\n",
       "    <tr>\n",
       "      <th>2</th>\n",
       "      <td>0</td>\n",
       "      <td>897</td>\n",
       "      <td>787</td>\n",
       "      <td>300</td>\n",
       "      <td>456</td>\n",
       "      <td>1423</td>\n",
       "      <td>887</td>\n",
       "      <td>1186</td>\n",
       "      <td>&lt;NA&gt;</td>\n",
       "    </tr>\n",
       "    <tr>\n",
       "      <th>3</th>\n",
       "      <td>2</td>\n",
       "      <td>978</td>\n",
       "      <td>654</td>\n",
       "      <td>321</td>\n",
       "      <td>111</td>\n",
       "      <td>1423</td>\n",
       "      <td>111</td>\n",
       "      <td>&lt;NA&gt;</td>\n",
       "      <td>&lt;NA&gt;</td>\n",
       "    </tr>\n",
       "    <tr>\n",
       "      <th>4</th>\n",
       "      <td>2</td>\n",
       "      <td>700</td>\n",
       "      <td>800</td>\n",
       "      <td>600</td>\n",
       "      <td>200</td>\n",
       "      <td>700</td>\n",
       "      <td>&lt;NA&gt;</td>\n",
       "      <td>&lt;NA&gt;</td>\n",
       "      <td>&lt;NA&gt;</td>\n",
       "    </tr>\n",
       "    <tr>\n",
       "      <th>5</th>\n",
       "      <td>2</td>\n",
       "      <td>1500</td>\n",
       "      <td>500</td>\n",
       "      <td>700</td>\n",
       "      <td>100</td>\n",
       "      <td>3702</td>\n",
       "      <td>&lt;NA&gt;</td>\n",
       "      <td>&lt;NA&gt;</td>\n",
       "      <td>&lt;NA&gt;</td>\n",
       "    </tr>\n",
       "    <tr>\n",
       "      <th>6</th>\n",
       "      <td>1</td>\n",
       "      <td>1400</td>\n",
       "      <td>1300</td>\n",
       "      <td>800</td>\n",
       "      <td>900</td>\n",
       "      <td>1500</td>\n",
       "      <td>1200</td>\n",
       "      <td>1300</td>\n",
       "      <td>1400</td>\n",
       "    </tr>\n",
       "    <tr>\n",
       "      <th>7</th>\n",
       "      <td>2</td>\n",
       "      <td>1234</td>\n",
       "      <td>5678</td>\n",
       "      <td>4321</td>\n",
       "      <td>8765</td>\n",
       "      <td>900</td>\n",
       "      <td>&lt;NA&gt;</td>\n",
       "      <td>&lt;NA&gt;</td>\n",
       "      <td>&lt;NA&gt;</td>\n",
       "    </tr>\n",
       "  </tbody>\n",
       "</table>\n",
       "</div>"
      ],
      "text/plain": [
       "   scores  reactionTime_1  reactionTime_2  reactionTime_3  reactionTime_4  \\\n",
       "0       2            1008             381             551             266   \n",
       "1       3            1007             999             499             245   \n",
       "2       0             897             787             300             456   \n",
       "3       2             978             654             321             111   \n",
       "4       2             700             800             600             200   \n",
       "5       2            1500             500             700             100   \n",
       "6       1            1400            1300             800             900   \n",
       "7       2            1234            5678            4321            8765   \n",
       "\n",
       "   reactionTimesGlow_1 reactionTimesGlow_2 reactionTimesGlow_3  \\\n",
       "0                 1348                1961                <NA>   \n",
       "1                 1546                1460                <NA>   \n",
       "2                 1423                 887                1186   \n",
       "3                 1423                 111                <NA>   \n",
       "4                  700                <NA>                <NA>   \n",
       "5                 3702                <NA>                <NA>   \n",
       "6                 1500                1200                1300   \n",
       "7                  900                <NA>                <NA>   \n",
       "\n",
       "  reactionTimesGlow_4  \n",
       "0                <NA>  \n",
       "1                <NA>  \n",
       "2                <NA>  \n",
       "3                <NA>  \n",
       "4                <NA>  \n",
       "5                <NA>  \n",
       "6                1400  \n",
       "7                <NA>  "
      ]
     },
     "execution_count": 20,
     "metadata": {},
     "output_type": "execute_result"
    }
   ],
   "source": [
    "game_data"
   ]
  },
  {
   "cell_type": "markdown",
   "metadata": {},
   "source": [
    "Add a column to count the number of glowing balls the player has clicked on "
   ]
  },
  {
   "cell_type": "code",
   "execution_count": 21,
   "metadata": {},
   "outputs": [],
   "source": [
    "# Function to count glowing ball clicks\n",
    "def count_glowing_ball_clicks(df):\n",
    "    # Select only the reactionTimesGlow columns\n",
    "    glow_columns = [col for col in df.columns if col.startswith(\"reactionTimesGlow_\")]\n",
    "    # Count non-NA values across these columns for each row\n",
    "    return df[glow_columns].notna().sum(axis=1)\n",
    "\n",
    "# Adding glowing ball clicks count to game_data\n",
    "game_data['glowingBallClicks'] = count_glowing_ball_clicks(game_data)\n",
    "\n",
    "# Reorder the columns to make 'glowingBallClicks' the second column\n",
    "columns = ['scores', 'glowingBallClicks'] + [col for col in game_data.columns if col not in ['scores', 'glowingBallClicks']]\n",
    "game_data = game_data[columns]\n",
    "\n"
   ]
  },
  {
   "cell_type": "markdown",
   "metadata": {},
   "source": [
    "Lets get the average reaction time for the glowing and blue balls. "
   ]
  },
  {
   "cell_type": "code",
   "execution_count": 22,
   "metadata": {},
   "outputs": [
    {
     "name": "stderr",
     "output_type": "stream",
     "text": [
      "/var/folders/jw/_4cc26y16tn46r3l9pcxbhvm0000gp/T/ipykernel_85582/2177550520.py:5: SettingWithCopyWarning: \n",
      "A value is trying to be set on a copy of a slice from a DataFrame.\n",
      "Try using .loc[row_indexer,col_indexer] = value instead\n",
      "\n",
      "See the caveats in the documentation: https://pandas.pydata.org/pandas-docs/stable/user_guide/indexing.html#returning-a-view-versus-a-copy\n",
      "  game_data['averageReactionTimeGlow'] = game_data[reaction_time_columns].mean(axis=1)\n",
      "/var/folders/jw/_4cc26y16tn46r3l9pcxbhvm0000gp/T/ipykernel_85582/2177550520.py:8: SettingWithCopyWarning: \n",
      "A value is trying to be set on a copy of a slice from a DataFrame.\n",
      "Try using .loc[row_indexer,col_indexer] = value instead\n",
      "\n",
      "See the caveats in the documentation: https://pandas.pydata.org/pandas-docs/stable/user_guide/indexing.html#returning-a-view-versus-a-copy\n",
      "  game_data['averageReactionTimeGlow'] = game_data['averageReactionTimeGlow'].astype('int64')\n"
     ]
    }
   ],
   "source": [
    "# Select the columns that represent reaction times\n",
    "reaction_time_columns = [f\"reactionTimesGlow_{i+1}\" for i in range(4)]\n",
    "\n",
    "# Calculate the average reaction time\n",
    "game_data['averageReactionTimeGlow'] = game_data[reaction_time_columns].mean(axis=1)\n",
    "\n",
    "# Convert the column to int64\n",
    "game_data['averageReactionTimeGlow'] = game_data['averageReactionTimeGlow'].astype('int64')\n",
    "\n",
    "\n"
   ]
  },
  {
   "cell_type": "code",
   "execution_count": 23,
   "metadata": {},
   "outputs": [
    {
     "name": "stderr",
     "output_type": "stream",
     "text": [
      "/var/folders/jw/_4cc26y16tn46r3l9pcxbhvm0000gp/T/ipykernel_85582/3182583680.py:5: SettingWithCopyWarning: \n",
      "A value is trying to be set on a copy of a slice from a DataFrame.\n",
      "Try using .loc[row_indexer,col_indexer] = value instead\n",
      "\n",
      "See the caveats in the documentation: https://pandas.pydata.org/pandas-docs/stable/user_guide/indexing.html#returning-a-view-versus-a-copy\n",
      "  game_data['averageReactionTime'] = game_data[reaction_time_columns].mean(axis=1)\n",
      "/var/folders/jw/_4cc26y16tn46r3l9pcxbhvm0000gp/T/ipykernel_85582/3182583680.py:8: SettingWithCopyWarning: \n",
      "A value is trying to be set on a copy of a slice from a DataFrame.\n",
      "Try using .loc[row_indexer,col_indexer] = value instead\n",
      "\n",
      "See the caveats in the documentation: https://pandas.pydata.org/pandas-docs/stable/user_guide/indexing.html#returning-a-view-versus-a-copy\n",
      "  game_data['averageReactionTime'] = game_data['averageReactionTime'].astype('int64')\n"
     ]
    }
   ],
   "source": [
    "# Select the columns that represent reaction times\n",
    "reaction_time_columns = [f\"reactionTime_{i+1}\" for i in range(4)]\n",
    "\n",
    "# Calculate the average reaction time\n",
    "game_data['averageReactionTime'] = game_data[reaction_time_columns].mean(axis=1)\n",
    "\n",
    "# Convert the column to int64\n",
    "game_data['averageReactionTime'] = game_data['averageReactionTime'].astype('int64')\n",
    "\n",
    "\n"
   ]
  },
  {
   "cell_type": "code",
   "execution_count": 24,
   "metadata": {},
   "outputs": [
    {
     "data": {
      "text/html": [
       "<div>\n",
       "<style scoped>\n",
       "    .dataframe tbody tr th:only-of-type {\n",
       "        vertical-align: middle;\n",
       "    }\n",
       "\n",
       "    .dataframe tbody tr th {\n",
       "        vertical-align: top;\n",
       "    }\n",
       "\n",
       "    .dataframe thead th {\n",
       "        text-align: right;\n",
       "    }\n",
       "</style>\n",
       "<table border=\"1\" class=\"dataframe\">\n",
       "  <thead>\n",
       "    <tr style=\"text-align: right;\">\n",
       "      <th></th>\n",
       "      <th>scores</th>\n",
       "      <th>glowingBallClicks</th>\n",
       "      <th>reactionTime_1</th>\n",
       "      <th>reactionTime_2</th>\n",
       "      <th>reactionTime_3</th>\n",
       "      <th>reactionTime_4</th>\n",
       "      <th>reactionTimesGlow_1</th>\n",
       "      <th>reactionTimesGlow_2</th>\n",
       "      <th>reactionTimesGlow_3</th>\n",
       "      <th>reactionTimesGlow_4</th>\n",
       "      <th>averageReactionTimeGlow</th>\n",
       "      <th>averageReactionTime</th>\n",
       "    </tr>\n",
       "  </thead>\n",
       "  <tbody>\n",
       "    <tr>\n",
       "      <th>0</th>\n",
       "      <td>2</td>\n",
       "      <td>2</td>\n",
       "      <td>1008</td>\n",
       "      <td>381</td>\n",
       "      <td>551</td>\n",
       "      <td>266</td>\n",
       "      <td>1348</td>\n",
       "      <td>1961</td>\n",
       "      <td>&lt;NA&gt;</td>\n",
       "      <td>&lt;NA&gt;</td>\n",
       "      <td>1654</td>\n",
       "      <td>551</td>\n",
       "    </tr>\n",
       "    <tr>\n",
       "      <th>1</th>\n",
       "      <td>3</td>\n",
       "      <td>2</td>\n",
       "      <td>1007</td>\n",
       "      <td>999</td>\n",
       "      <td>499</td>\n",
       "      <td>245</td>\n",
       "      <td>1546</td>\n",
       "      <td>1460</td>\n",
       "      <td>&lt;NA&gt;</td>\n",
       "      <td>&lt;NA&gt;</td>\n",
       "      <td>1503</td>\n",
       "      <td>687</td>\n",
       "    </tr>\n",
       "    <tr>\n",
       "      <th>2</th>\n",
       "      <td>0</td>\n",
       "      <td>3</td>\n",
       "      <td>897</td>\n",
       "      <td>787</td>\n",
       "      <td>300</td>\n",
       "      <td>456</td>\n",
       "      <td>1423</td>\n",
       "      <td>887</td>\n",
       "      <td>1186</td>\n",
       "      <td>&lt;NA&gt;</td>\n",
       "      <td>1165</td>\n",
       "      <td>610</td>\n",
       "    </tr>\n",
       "    <tr>\n",
       "      <th>3</th>\n",
       "      <td>2</td>\n",
       "      <td>2</td>\n",
       "      <td>978</td>\n",
       "      <td>654</td>\n",
       "      <td>321</td>\n",
       "      <td>111</td>\n",
       "      <td>1423</td>\n",
       "      <td>111</td>\n",
       "      <td>&lt;NA&gt;</td>\n",
       "      <td>&lt;NA&gt;</td>\n",
       "      <td>767</td>\n",
       "      <td>516</td>\n",
       "    </tr>\n",
       "    <tr>\n",
       "      <th>4</th>\n",
       "      <td>2</td>\n",
       "      <td>1</td>\n",
       "      <td>700</td>\n",
       "      <td>800</td>\n",
       "      <td>600</td>\n",
       "      <td>200</td>\n",
       "      <td>700</td>\n",
       "      <td>&lt;NA&gt;</td>\n",
       "      <td>&lt;NA&gt;</td>\n",
       "      <td>&lt;NA&gt;</td>\n",
       "      <td>700</td>\n",
       "      <td>575</td>\n",
       "    </tr>\n",
       "    <tr>\n",
       "      <th>5</th>\n",
       "      <td>2</td>\n",
       "      <td>1</td>\n",
       "      <td>1500</td>\n",
       "      <td>500</td>\n",
       "      <td>700</td>\n",
       "      <td>100</td>\n",
       "      <td>3702</td>\n",
       "      <td>&lt;NA&gt;</td>\n",
       "      <td>&lt;NA&gt;</td>\n",
       "      <td>&lt;NA&gt;</td>\n",
       "      <td>3702</td>\n",
       "      <td>700</td>\n",
       "    </tr>\n",
       "    <tr>\n",
       "      <th>6</th>\n",
       "      <td>1</td>\n",
       "      <td>4</td>\n",
       "      <td>1400</td>\n",
       "      <td>1300</td>\n",
       "      <td>800</td>\n",
       "      <td>900</td>\n",
       "      <td>1500</td>\n",
       "      <td>1200</td>\n",
       "      <td>1300</td>\n",
       "      <td>1400</td>\n",
       "      <td>1350</td>\n",
       "      <td>1100</td>\n",
       "    </tr>\n",
       "    <tr>\n",
       "      <th>7</th>\n",
       "      <td>2</td>\n",
       "      <td>1</td>\n",
       "      <td>1234</td>\n",
       "      <td>5678</td>\n",
       "      <td>4321</td>\n",
       "      <td>8765</td>\n",
       "      <td>900</td>\n",
       "      <td>&lt;NA&gt;</td>\n",
       "      <td>&lt;NA&gt;</td>\n",
       "      <td>&lt;NA&gt;</td>\n",
       "      <td>900</td>\n",
       "      <td>4999</td>\n",
       "    </tr>\n",
       "  </tbody>\n",
       "</table>\n",
       "</div>"
      ],
      "text/plain": [
       "   scores  glowingBallClicks  reactionTime_1  reactionTime_2  reactionTime_3  \\\n",
       "0       2                  2            1008             381             551   \n",
       "1       3                  2            1007             999             499   \n",
       "2       0                  3             897             787             300   \n",
       "3       2                  2             978             654             321   \n",
       "4       2                  1             700             800             600   \n",
       "5       2                  1            1500             500             700   \n",
       "6       1                  4            1400            1300             800   \n",
       "7       2                  1            1234            5678            4321   \n",
       "\n",
       "   reactionTime_4  reactionTimesGlow_1 reactionTimesGlow_2  \\\n",
       "0             266                 1348                1961   \n",
       "1             245                 1546                1460   \n",
       "2             456                 1423                 887   \n",
       "3             111                 1423                 111   \n",
       "4             200                  700                <NA>   \n",
       "5             100                 3702                <NA>   \n",
       "6             900                 1500                1200   \n",
       "7            8765                  900                <NA>   \n",
       "\n",
       "  reactionTimesGlow_3 reactionTimesGlow_4  averageReactionTimeGlow  \\\n",
       "0                <NA>                <NA>                     1654   \n",
       "1                <NA>                <NA>                     1503   \n",
       "2                1186                <NA>                     1165   \n",
       "3                <NA>                <NA>                      767   \n",
       "4                <NA>                <NA>                      700   \n",
       "5                <NA>                <NA>                     3702   \n",
       "6                1300                1400                     1350   \n",
       "7                <NA>                <NA>                      900   \n",
       "\n",
       "   averageReactionTime  \n",
       "0                  551  \n",
       "1                  687  \n",
       "2                  610  \n",
       "3                  516  \n",
       "4                  575  \n",
       "5                  700  \n",
       "6                 1100  \n",
       "7                 4999  "
      ]
     },
     "execution_count": 24,
     "metadata": {},
     "output_type": "execute_result"
    }
   ],
   "source": [
    "game_data"
   ]
  },
  {
   "cell_type": "markdown",
   "metadata": {},
   "source": [
    "Analysis "
   ]
  },
  {
   "cell_type": "markdown",
   "metadata": {},
   "source": [
    "Do higher scores correlate with faster reaction times or the number of glowing ball clicks?"
   ]
  },
  {
   "cell_type": "code",
   "execution_count": 9,
   "metadata": {},
   "outputs": [
    {
     "data": {
      "text/html": [
       "<div>\n",
       "<style scoped>\n",
       "    .dataframe tbody tr th:only-of-type {\n",
       "        vertical-align: middle;\n",
       "    }\n",
       "\n",
       "    .dataframe tbody tr th {\n",
       "        vertical-align: top;\n",
       "    }\n",
       "\n",
       "    .dataframe thead th {\n",
       "        text-align: right;\n",
       "    }\n",
       "</style>\n",
       "<table border=\"1\" class=\"dataframe\">\n",
       "  <thead>\n",
       "    <tr style=\"text-align: right;\">\n",
       "      <th></th>\n",
       "      <th>scores</th>\n",
       "      <th>glowingBallClicks</th>\n",
       "      <th>averageReactionTime</th>\n",
       "      <th>averageReactionTimeGlow</th>\n",
       "    </tr>\n",
       "  </thead>\n",
       "  <tbody>\n",
       "    <tr>\n",
       "      <th>scores</th>\n",
       "      <td>1.000000</td>\n",
       "      <td>-0.603023</td>\n",
       "      <td>0.083930</td>\n",
       "      <td>0.126465</td>\n",
       "    </tr>\n",
       "    <tr>\n",
       "      <th>glowingBallClicks</th>\n",
       "      <td>-0.603023</td>\n",
       "      <td>1.000000</td>\n",
       "      <td>-0.300765</td>\n",
       "      <td>-0.198724</td>\n",
       "    </tr>\n",
       "    <tr>\n",
       "      <th>averageReactionTime</th>\n",
       "      <td>0.083930</td>\n",
       "      <td>-0.300765</td>\n",
       "      <td>1.000000</td>\n",
       "      <td>-0.217417</td>\n",
       "    </tr>\n",
       "    <tr>\n",
       "      <th>averageReactionTimeGlow</th>\n",
       "      <td>0.126465</td>\n",
       "      <td>-0.198724</td>\n",
       "      <td>-0.217417</td>\n",
       "      <td>1.000000</td>\n",
       "    </tr>\n",
       "  </tbody>\n",
       "</table>\n",
       "</div>"
      ],
      "text/plain": [
       "                           scores  glowingBallClicks  averageReactionTime  \\\n",
       "scores                   1.000000          -0.603023             0.083930   \n",
       "glowingBallClicks       -0.603023           1.000000            -0.300765   \n",
       "averageReactionTime      0.083930          -0.300765             1.000000   \n",
       "averageReactionTimeGlow  0.126465          -0.198724            -0.217417   \n",
       "\n",
       "                         averageReactionTimeGlow  \n",
       "scores                                  0.126465  \n",
       "glowingBallClicks                      -0.198724  \n",
       "averageReactionTime                    -0.217417  \n",
       "averageReactionTimeGlow                 1.000000  "
      ]
     },
     "execution_count": 9,
     "metadata": {},
     "output_type": "execute_result"
    }
   ],
   "source": [
    "correlation_matrix = game_data[['scores', 'glowingBallClicks', 'averageReactionTime', 'averageReactionTimeGlow']].corr()\n",
    "correlation_matrix\n"
   ]
  },
  {
   "cell_type": "code",
   "execution_count": 10,
   "metadata": {},
   "outputs": [
    {
     "data": {
      "image/png": "[encoded data removed]",
      "text/plain": [
       "<Figure size 640x480 with 2 Axes>"
      ]
     },
     "metadata": {},
     "output_type": "display_data"
    }
   ],
   "source": [
    "sns.heatmap(correlation_matrix, annot=True, cmap='coolwarm')\n",
    "plt.title('Correlation Heatmap')\n",
    "plt.show()\n"
   ]
  },
  {
   "cell_type": "markdown",
   "metadata": {},
   "source": [
    "Are players being consistent with the reation time towards the glow ball. Reaction times may differ depending on where their eyes are focused"
   ]
  },
  {
   "cell_type": "code",
   "execution_count": 11,
   "metadata": {},
   "outputs": [
    {
     "name": "stdout",
     "output_type": "stream",
     "text": [
      "   glowingBallClicks reactionTimeStdDev\n",
      "0                  2         433.456457\n",
      "1                  2          60.811183\n",
      "2                  3         268.596972\n",
      "3                  2         927.724097\n",
      "4                  1                NaN\n",
      "5                  1                NaN\n",
      "6                  4         129.099445\n",
      "7                  1                NaN\n"
     ]
    },
    {
     "name": "stderr",
     "output_type": "stream",
     "text": [
      "/var/folders/jw/_4cc26y16tn46r3l9pcxbhvm0000gp/T/ipykernel_85582/215587860.py:2: SettingWithCopyWarning: \n",
      "A value is trying to be set on a copy of a slice from a DataFrame.\n",
      "Try using .loc[row_indexer,col_indexer] = value instead\n",
      "\n",
      "See the caveats in the documentation: https://pandas.pydata.org/pandas-docs/stable/user_guide/indexing.html#returning-a-view-versus-a-copy\n",
      "  game_data['reactionTimeStdDev'] = game_data[Glow_reaction_time_cols].std(axis=1)\n"
     ]
    }
   ],
   "source": [
    "Glow_reaction_time_cols = [f'reactionTimesGlow_{i+1}' for i in range(4)]\n",
    "game_data['reactionTimeStdDev'] = game_data[Glow_reaction_time_cols].std(axis=1)\n",
    "print(game_data[['glowingBallClicks', 'reactionTimeStdDev']])\n"
   ]
  },
  {
   "cell_type": "markdown",
   "metadata": {},
   "source": [
    "Does clicking more glowing balls significantly impact scores?"
   ]
  },
  {
   "cell_type": "markdown",
   "metadata": {},
   "source": [
    "Lets split two groups of players, into high_clicks and low_clicks. high_clicks click more than 1 ball while low_clicks click 0 or 1 ball. Next we'll carry a test statistic to determine whether there is a relationship between having a high score and reaction to the glowing balls. We will perform a 2 tailed test as there could be 2 outcomes. For this test, I'll be using the Wilcoxon Rank-Sum Test. (We can use a t-test if this data is normal)\n",
    "\n",
    "1. The player reacts quickly to the glowing balls but loses track of the blue balls. or vice versa\n",
    "2. The player reacts quickly to the glowing balls and can also keep track of the blue balls. "
   ]
  },
  {
   "cell_type": "markdown",
   "metadata": {},
   "source": [
    "### Null Hypothesis (\\(H_0\\)) and Alternative Hypothesis (\\(H_a\\))\n",
    "\n",
    "$$\n",
    "H_a: \\mu_1 \\neq \\mu_2 \\quad \\text{(The mean scores of the two groups are not equal)}\n",
    "$$\n",
    "\n",
    "### Types of t-tests:\n",
    " **Two-tailed Test**:\n",
    "   $$\n",
    "   H_a: \\mu_1 \\neq \\mu_2\n",
    "   $$\n"
   ]
  },
  {
   "cell_type": "code",
   "execution_count": 16,
   "metadata": {},
   "outputs": [],
   "source": [
    "\n",
    "high_clicks = game_data[game_data['glowingBallClicks'] > 1]['scores']\n",
    "low_clicks = game_data[game_data['glowingBallClicks'] <= 1]['scores']\n"
   ]
  },
  {
   "cell_type": "code",
   "execution_count": 25,
   "metadata": {},
   "outputs": [
    {
     "name": "stdout",
     "output_type": "stream",
     "text": [
      "High clicks group normality test: P-Value = 0.8139521277236892\n",
      "Low clicks group normality test: P-Value = 1.0\n"
     ]
    },
    {
     "name": "stderr",
     "output_type": "stream",
     "text": [
      "/Users/luqman/Library/Python/3.9/lib/python/site-packages/scipy/stats/_axis_nan_policy.py:531: UserWarning: scipy.stats.shapiro: Input data has range zero. The results may not be accurate.\n",
      "  res = hypotest_fun_out(*samples, **kwds)\n"
     ]
    }
   ],
   "source": [
    "from scipy.stats import shapiro\n",
    "\n",
    "# Test normality of each group\n",
    "stat_high, p_high = shapiro(high_clicks)\n",
    "stat_low, p_low = shapiro(low_clicks)\n",
    "\n",
    "print(f\"High clicks group normality test: P-Value = {p_high}\")\n",
    "print(f\"Low clicks group normality test: P-Value = {p_low}\")\n"
   ]
  },
  {
   "cell_type": "code",
   "execution_count": 26,
   "metadata": {},
   "outputs": [
    {
     "name": "stdout",
     "output_type": "stream",
     "text": [
      "Statistic: -0.4472135954999579, P-Value: 0.6547208460185769\n",
      "There is no significant difference between the high-click and low-click groups.\n"
     ]
    }
   ],
   "source": [
    "from scipy.stats import ranksums\n",
    "\n",
    "# Perform the Wilcoxon Rank-Sum Test\n",
    "stat, p_value = ranksums(high_clicks, low_clicks)\n",
    "print(f\"Statistic: {stat}, P-Value: {p_value}\")\n",
    "\n",
    "# Interpretation\n",
    "if p_value < 0.05:\n",
    "    print(\"There is a significant difference between the high-click and low-click groups.\")\n",
    "else:\n",
    "    print(\"There is no significant difference between the high-click and low-click groups.\")\n"
   ]
  },
  {
   "cell_type": "markdown",
   "metadata": {},
   "source": [
    "notes:\n",
    "\n",
    ".melt()"
   ]
  }
 ],
 "metadata": {
  "kernelspec": {
   "display_name": "Python 3",
   "language": "python",
   "name": "python3"
  },
  "language_info": {
   "codemirror_mode": {
    "name": "ipython",
    "version": 3
   },
   "file_extension": ".py",
   "mimetype": "text/x-python",
   "name": "python",
   "nbconvert_exporter": "python",
   "pygments_lexer": "ipython3",
   "version": "3.9.6"
  }
 },
 "nbformat": 4,
 "nbformat_minor": 2
}
