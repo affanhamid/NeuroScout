{
 "cells": [
  {
   "cell_type": "code",
   "execution_count": null,
   "metadata": {},
   "outputs": [],
   "source": [
    "from games.arrow_game import analyse_arrow_game"
   ]
  },
  {
   "cell_type": "code",
   "execution_count": null,
   "metadata": {},
   "outputs": [],
   "source": [
    "test_data = pd.DataFrame(\n",
    "    {\n",
    "        \"accuracy\": [True, True, False, True],\n",
    "        \"reactionTime\": [504, 386, 372, 489],\n",
    "        \"primerDir\": [\"right\", \"right\", \"right\", \"right\"],\n",
    "        \"topFlankerDir\": [\"left\", \"right\", \"right\", \"left\"],\n",
    "        \"bottomFlankerDir\": [\"right\", \"right\", \"left\", \"right\"],\n",
    "    }\n",
    ")\n",
    "categorical_columns = [\"primerDir\", \"topFlankerDir\", \"bottomFlankerDir\"]\n",
    "\n",
    "for col in categorical_columns:\n",
    "    test_data[col] = test_data[col].astype(\"category\")\n",
    "\n",
    "\n",
    "print(analyse_arrow_game(test_data))"
   ]
  }
 ],
 "metadata": {
  "language_info": {
   "name": "python"
  }
 },
 "nbformat": 4,
 "nbformat_minor": 2
}
